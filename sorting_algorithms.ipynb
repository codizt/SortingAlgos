{
 "cells": [
  {
   "cell_type": "markdown",
   "metadata": {},
   "source": [
    "# Analysis of Sorting Algorithms\n",
    "Submitted towards Data Structures and Algorithms course assignment\n",
    "\n",
    "## Team\n",
    "- Krisha Vardhni M CB.EN.U4CSE20633\n",
    "- Deebakkarthi C R CB.EN.U4CSE20613\n",
    "- Devaraja G CB.EN.U4CSE20614"
   ]
  },
  {
   "cell_type": "markdown",
   "metadata": {},
   "source": [
    "## Algorithms\n",
    "- Bubble Sort\n",
    "- Insertion Sort\n",
    "- Selection Sort\n",
    "- Merge Sort\n",
    "- Quick Sort"
   ]
  },
  {
   "cell_type": "code",
   "execution_count": 34,
   "metadata": {},
   "outputs": [],
   "source": [
    "import random\n",
    "import time\n",
    "import tracemalloc\n",
    "import numpy as np\n",
    "import matplotlib.pyplot as plt"
   ]
  },
  {
   "cell_type": "code",
   "execution_count": 35,
   "metadata": {},
   "outputs": [],
   "source": [
    "def genShuffledArrays(n):\n",
    "    suffledArrayCollection = []\n",
    "\n",
    "    for i in range(1,n+1):\n",
    "        arrayitem = list(range(1, i+1))\n",
    "        random.shuffle(arrayitem)\n",
    "        suffledArrayCollection.append(arrayitem)\n",
    "\n",
    "    return suffledArrayCollection\n",
    "\n",
    "shuffledArrayCollection = genShuffledArrays(100) # Array of shuffled arrays from size 1 - 100"
   ]
  },
  {
   "cell_type": "code",
   "execution_count": 36,
   "metadata": {},
   "outputs": [],
   "source": [
    "def plotter(times_taken, mems_taken, swaps_taken, iterations_taken, comparisons_taken, complexity):\n",
    "    n = np.array(range(1,len(times_taken)+1))\n",
    "    times_np = np.array(times_taken)\n",
    "    mems_np = np.array(mems_taken)\n",
    "    swaps_np = np.array(swaps_taken)\n",
    "    iterations_np = np.array(iterations_taken)\n",
    "    comparisons_np = np.array(comparisons_taken)\n",
    "    complexity_np = np.array(complexity)\n",
    "\n",
    "    plt.title(\"Selection Sort\")\n",
    "    plt.xlabel(\"Size of Array\")\n",
    "    plt.ylabel(\"Measurements\")\n",
    "    plt.plot(n, times_np, color='red', label='Time taken')\n",
    "    # plt.plot(n, mems_np, color='green', label='Memory usage')\n",
    "    # plt.plot(n, swaps_np, color='blue', label='Number of swaps')\n",
    "    # plt.plot(n, iterations_np, color='black', label='Number of iterations')\n",
    "    # plt.plot(n, comparisons_np, color='yellow', label='Number of comparisons')\n",
    "    # plt.plot(n, complexity_np, color='orange', label='Complexity')\n",
    "    len(times_taken)\n",
    "    plt.legend()\n",
    "    plt.show()"
   ]
  },
  {
   "cell_type": "code",
   "execution_count": 37,
   "metadata": {},
   "outputs": [],
   "source": [
    "def selectionSort(unsortedList):\n",
    "\n",
    "    # SWAPS\n",
    "    swaps = 0\n",
    "\n",
    "    # ITERATIONS\n",
    "    iterations = 0\n",
    "\n",
    "    # COMPARISONS\n",
    "    comparisons = 0\n",
    "\n",
    "    # Starting time\n",
    "    start_time = (round(time.time()*1000))\n",
    "\n",
    "    # Starting memory tracing\n",
    "    tracemalloc.start()\n",
    "\n",
    "    # Initialize the sorted list as empty\n",
    "    sortedList = []\n",
    "\n",
    "    # Loop through the list\n",
    "    for i in range(len(unsortedList)):\n",
    "        # iterations+=1\n",
    "        # Find the smallest value in the unsorted list\n",
    "        smallest = unsortedList[0]\n",
    "        for j in range(len(unsortedList)):\n",
    "            iterations+=1\n",
    "            if unsortedList[j] < smallest:\n",
    "                smallest = unsortedList[j]\n",
    "                comparisons+=1\n",
    "        \n",
    "        # Append the smallest value to the sorted list\n",
    "        sortedList.append(smallest)\n",
    "\n",
    "        # Remove the smallest value from the unsorted list\n",
    "        unsortedList.remove(smallest)\n",
    "\n",
    "        # Removal from unsorted list and appending to sorted list is 1 swap\n",
    "        swaps+=1\n",
    "\n",
    "    # End memory tracing\n",
    "    mem_taken = list(tracemalloc.get_traced_memory())[1]\n",
    "    tracemalloc.stop()\n",
    "\n",
    "    # End time\n",
    "    end_time = (round(time.time()*1000))\n",
    "\n",
    "    # Total time\n",
    "    time_taken = end_time - start_time\n",
    "\n",
    "    return [sortedList, time_taken, mem_taken, swaps, iterations, comparisons]"
   ]
  },
  {
   "cell_type": "code",
   "execution_count": 38,
   "metadata": {},
   "outputs": [],
   "source": [
    "def selectionSortWrappper():\n",
    "    times_taken = []\n",
    "    mems_taken = []\n",
    "    swaps_taken = []\n",
    "    iterations_taken = []\n",
    "    comparisons_taken = []\n",
    "    complexity = [] # O(n^2) for Selection sort\n",
    "\n",
    "    for i in range(len(shuffledArrayCollection)):\n",
    "        [sortedarray, time_taken, mem_taken, swaps, iterations, comparisons]= selectionSort(shuffledArrayCollection[i].copy())\n",
    "        times_taken.append(time_taken)\n",
    "        mems_taken.append(mem_taken)\n",
    "        swaps_taken.append(swaps)\n",
    "        iterations_taken.append(iterations)\n",
    "        comparisons_taken.append(comparisons)\n",
    "        complexity.append(i*i)\n",
    "\n",
    "        if i==10:\n",
    "            print(\"Unsorted array: \", shuffledArrayCollection[i])\n",
    "            print(\"Sorted array: \", sortedarray)\n",
    "            print(\"Time taken [in ns]: \", time_taken)\n",
    "            print(\"Maximum memory taken: \", mem_taken)\n",
    "            print(\"Swaps: \", swaps)\n",
    "            print(\"Iterations: \", iterations)\n",
    "            print(\"Comparisons: \", comparisons)\n",
    "    print(times_taken[-1], mems_taken[-1], swaps_taken[-1], iterations_taken[-1], comparisons_taken[-1])\n",
    "    return times_taken, mems_taken, swaps_taken, iterations_taken, comparisons_taken, complexity"
   ]
  },
  {
   "cell_type": "code",
   "execution_count": 39,
   "metadata": {},
   "outputs": [
    {
     "name": "stdout",
     "output_type": "stream",
     "text": [
      "Unsorted array:  [7, 1, 2, 8, 4, 3, 5, 10, 6, 9, 11]\n",
      "Sorted array:  [1, 2, 3, 4, 5, 6, 7, 8, 9, 10, 11]\n",
      "Time taken [in ns]:  0\n",
      "Maximum memory taken:  304\n",
      "Swaps:  11\n",
      "Iterations:  66\n",
      "Comparisons:  8\n",
      "9 2261 100 5050 331\n"
     ]
    },
    {
     "data": {
      "image/png": "[encoded data removed]",
      "text/plain": [
       "<Figure size 432x288 with 1 Axes>"
      ]
     },
     "metadata": {
      "needs_background": "light"
     },
     "output_type": "display_data"
    }
   ],
   "source": [
    "selectionSortResult = selectionSortWrappper()\n",
    "plotter(selectionSortResult[0], selectionSortResult[1], selectionSortResult[2], selectionSortResult[3], selectionSortResult[4], selectionSortResult[5])"
   ]
  },
  {
   "cell_type": "code",
   "execution_count": 40,
   "metadata": {},
   "outputs": [],
   "source": [
    "def bubbleSort(unsortedList):\n",
    "\n",
    "    # SWAPS\n",
    "    swaps = 0\n",
    "\n",
    "    # ITERATIONS\n",
    "    iterations = 0\n",
    "\n",
    "    # COMPARISONS\n",
    "    comparisons = 0\n",
    "\n",
    "    # Starting time\n",
    "    start_time = (round(time.time()*1000))\n",
    "\n",
    "    # Starting memory tracing\n",
    "    tracemalloc.start()\n",
    "\n",
    "    # Loop through the list\n",
    "    for i in range(len(unsortedList)):\n",
    "        iterations+=1\n",
    "        \n",
    "        for j in range(len(unsortedList)-1-i):\n",
    "            iterations+=1\n",
    "            comparisons+=1\n",
    "            if unsortedList[j] > unsortedList[j+1]:\n",
    "                t=unsortedList[j]\n",
    "                unsortedList[j] = unsortedList[j+1]\n",
    "                unsortedList[j+1] = t\n",
    "                swaps+=1\n",
    "                # print(unsortedList)\n",
    "\n",
    "    # End memory tracing\n",
    "    mem_taken = list(tracemalloc.get_traced_memory())[1]\n",
    "    tracemalloc.stop()\n",
    "\n",
    "    # End time\n",
    "    end_time = (round(time.time()*1000))\n",
    "\n",
    "    # Total time\n",
    "    time_taken = end_time - start_time\n",
    "\n",
    "    sortedList=unsortedList\n",
    "\n",
    "    return [sortedList, time_taken, mem_taken, swaps, iterations, comparisons]"
   ]
  },
  {
   "cell_type": "code",
   "execution_count": 41,
   "metadata": {},
   "outputs": [],
   "source": [
    "def bubbleSortWrappper():\n",
    "    times_taken = []\n",
    "    mems_taken = []\n",
    "    swaps_taken = []\n",
    "    iterations_taken = []\n",
    "    comparisons_taken = []\n",
    "    complexity = [] # O(n^2) for Selection sort\n",
    "\n",
    "    for i in range(len(shuffledArrayCollection)):\n",
    "        [sortedarray, time_taken, mem_taken, swaps, iterations, comparisons]= bubbleSort(shuffledArrayCollection[i].copy())\n",
    "        times_taken.append(time_taken)\n",
    "        mems_taken.append(mem_taken)\n",
    "        swaps_taken.append(swaps)\n",
    "        iterations_taken.append(iterations)\n",
    "        comparisons_taken.append(comparisons)\n",
    "        complexity.append(i*i)\n",
    "\n",
    "        if i==15:\n",
    "            print(\"Unsorted array: \", shuffledArrayCollection[i])\n",
    "            print(\"Sorted array: \", sortedarray)\n",
    "            print(\"Time taken [in ns]: \", time_taken)\n",
    "            print(\"Maximum memory taken: \", mem_taken)\n",
    "            print(\"Swaps: \", swaps)\n",
    "            print(\"Iterations: \", iterations)\n",
    "            print(\"Comparisons: \", comparisons)\n",
    "    print(times_taken[-1], mems_taken[-1], swaps_taken[-1], iterations_taken[-1], comparisons_taken[-1])\n",
    "    return times_taken, mems_taken, swaps_taken, iterations_taken, comparisons_taken, complexity"
   ]
  },
  {
   "cell_type": "code",
   "execution_count": 42,
   "metadata": {},
   "outputs": [
    {
     "name": "stdout",
     "output_type": "stream",
     "text": [
      "Unsorted array:  [15, 12, 10, 9, 13, 2, 4, 6, 3, 8, 7, 14, 1, 5, 16, 11]\n",
      "Sorted array:  [1, 2, 3, 4, 5, 6, 7, 8, 9, 10, 11, 12, 13, 14, 15, 16]\n",
      "Time taken [in ns]:  0\n",
      "Maximum memory taken:  112\n",
      "Swaps:  67\n",
      "Iterations:  136\n",
      "Comparisons:  120\n",
      "8 196 2311 5050 4950\n"
     ]
    },
    {
     "data": {
      "image/png": "[encoded data removed]",
      "text/plain": [
       "<Figure size 432x288 with 1 Axes>"
      ]
     },
     "metadata": {
      "needs_background": "light"
     },
     "output_type": "display_data"
    }
   ],
   "source": [
    "selectionSortResult = bubbleSortWrappper()\n",
    "plotter(selectionSortResult[0], selectionSortResult[1], selectionSortResult[2], selectionSortResult[3], selectionSortResult[4], selectionSortResult[5])"
   ]
  },
  {
   "cell_type": "code",
   "execution_count": 43,
   "metadata": {},
   "outputs": [],
   "source": [
    "def insertionSort(unsortedList):\n",
    "\n",
    "    # SWAPS\n",
    "    swaps = 0\n",
    "\n",
    "    # ITERATIONS\n",
    "    iterations = 0\n",
    "\n",
    "    # COMPARISONS\n",
    "    comparisons = 0\n",
    "\n",
    "    # Starting time\n",
    "    start_time = (round(time.time()*1000))\n",
    "\n",
    "    # Starting memory tracing\n",
    "    tracemalloc.start()\n",
    "\n",
    "    # Loop through the list\n",
    "    for i in range(1, len(unsortedList)):\n",
    "        iterations+=1\n",
    "        key = unsortedList[i]\n",
    "        ptr=i-1\n",
    "        comparisons+=1\n",
    "\n",
    "        while ptr>=0 and unsortedList[ptr]>key:             \n",
    "          unsortedList[ptr+1]=unsortedList[ptr]\n",
    "          ptr-=1 \n",
    "          swaps+=1\n",
    "          iterations+=1\n",
    "        \n",
    "        unsortedList[ptr+1]=key\n",
    "\n",
    "    # End memory tracing\n",
    "    mem_taken = list(tracemalloc.get_traced_memory())[1]\n",
    "    tracemalloc.stop()\n",
    "\n",
    "    # End time\n",
    "    end_time = (round(time.time()*1000))\n",
    "\n",
    "    # Total time\n",
    "    time_taken = end_time - start_time\n",
    "\n",
    "    sortedList=unsortedList\n",
    "\n",
    "    return [sortedList, time_taken, mem_taken, swaps, iterations, comparisons]"
   ]
  },
  {
   "cell_type": "code",
   "execution_count": 44,
   "metadata": {},
   "outputs": [
    {
     "data": {
      "text/plain": [
       "[[1, 2, 3, 4, 5, 6, 7, 8, 9, 10, 11], 0, 80, 13, 23, 10]"
      ]
     },
     "execution_count": 44,
     "metadata": {},
     "output_type": "execute_result"
    }
   ],
   "source": [
    "def insertionSortWrappper():\n",
    "    times_taken = []\n",
    "    mems_taken = []\n",
    "    swaps_taken = []\n",
    "    iterations_taken = []\n",
    "    comparisons_taken = []\n",
    "    complexity = [] # O(n^2) for Selection sort\n",
    "\n",
    "    for i in range(len(shuffledArrayCollection)):\n",
    "        [sortedarray, time_taken, mem_taken, swaps, iterations, comparisons]= insertionSort(shuffledArrayCollection[i].copy())\n",
    "        times_taken.append(time_taken)\n",
    "        mems_taken.append(mem_taken)\n",
    "        swaps_taken.append(swaps)\n",
    "        iterations_taken.append(iterations)\n",
    "        comparisons_taken.append(comparisons)\n",
    "        complexity.append(i*i)\n",
    "\n",
    "        if i==15:\n",
    "            print(\"Unsorted array: \", shuffledArrayCollection[i])\n",
    "            print(\"Sorted array: \", sortedarray)\n",
    "            print(\"Time taken [in ns]: \", time_taken)\n",
    "            print(\"Maximum memory taken: \", mem_taken)\n",
    "            print(\"Swaps: \", swaps)\n",
    "            print(\"Iterations: \", iterations)\n",
    "            print(\"Comparisons: \", comparisons)\n",
    "    return times_taken, mems_taken, swaps_taken, iterations_taken, comparisons_taken, complexity"
   ]
  }
 ],
 "metadata": {
  "interpreter": {
   "hash": "9cee25e56c6cd3ce0385711b632dd3d3ab4d0d10dd02426a783e9dbe1f08a83a"
  },
  "kernelspec": {
   "display_name": "Python 3.10.3 64-bit",
   "language": "python",
   "name": "python3"
  },
  "language_info": {
   "codemirror_mode": {
    "name": "ipython",
    "version": 3
   },
   "file_extension": ".py",
   "mimetype": "text/x-python",
   "name": "python",
   "nbconvert_exporter": "python",
   "pygments_lexer": "ipython3",
   "version": "3.10.3"
  },
  "orig_nbformat": 4
 },
 "nbformat": 4,
 "nbformat_minor": 2
}
